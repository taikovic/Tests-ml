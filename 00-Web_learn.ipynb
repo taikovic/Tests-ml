{
 "cells": [
  {
   "cell_type": "code",
   "execution_count": null,
   "metadata": {},
   "outputs": [],
   "source": [
    "#low level API tensorflow: TensorFlow Core.\n",
    "# Dictionnary: \n",
    "# Tensorflow Program: tf.Graph\n",
    "# Tensorflow runtime: tf.Session\n",
    "#components: datasets, layers, feature_columns"
   ]
  },
  {
   "cell_type": "code",
   "execution_count": 2,
   "metadata": {},
   "outputs": [
    {
     "data": {
      "text/plain": [
       "[[[1, 2, 3]], [[7, 8, 9]]]"
      ]
     },
     "execution_count": 2,
     "metadata": {},
     "output_type": "execute_result"
    }
   ],
   "source": [
    "import numpy as np\n",
    "import tensorflow as tf\n",
    "\n",
    "# tensor: values shaped into an array of any dimensions\n",
    "# tensor's rank: nb of dimensions\n",
    "# tensor's shape: tuple of integers for array's length along each Dimension!!\n",
    "\n",
    "3. # rank:0,shape []\n",
    "[1,2,3] # rank:1, shape[3]\n",
    "[[1,2,3],[4,5,6]] # rank:2, shape[2,3]\n",
    "[[[1,2,3]],[[7,8,9]]] # rank:3, shape[2,1,3]"
   ]
  },
  {
   "cell_type": "code",
   "execution_count": 3,
   "metadata": {},
   "outputs": [
    {
     "name": "stdout",
     "output_type": "stream",
     "text": [
      "Tensor(\"Const:0\", shape=(), dtype=float32)\n",
      "Tensor(\"Const_1:0\", shape=(), dtype=float32)\n",
      "Tensor(\"add_1:0\", shape=(), dtype=float32)\n"
     ]
    }
   ],
   "source": [
    "#Graph: \n",
    "#1) tf.Operation(\"Ops\"): nodes of graph -> describes operations to process\n",
    "#2) tf.tensors: edges of graph. values that'll flow through the graph\n",
    "# ici on construit juste le graph: \n",
    "a = tf.constant(3.0,dtype=tf.float32)\n",
    "b = tf.constant(4.0) # by default tf.float32\n",
    "\n",
    "total= a + b \n",
    "\n",
    "print(a)\n",
    "print(b)\n",
    "print(a+b)"
   ]
  },
  {
   "cell_type": "code",
   "execution_count": 4,
   "metadata": {},
   "outputs": [],
   "source": [
    "#TensorBoard: \n",
    "# save the computation graph --> tensorBoard summary file:\n",
    "writer = tf.summary.FileWriter('.')\n",
    "writer.add_graph(tf.get_default_graph())\n",
    "writer.flush()\n",
    "#Generation of event: events.out.tfevents.{timestamp}.{hostname}"
   ]
  },
  {
   "cell_type": "code",
   "execution_count": 1,
   "metadata": {},
   "outputs": [
    {
     "ename": "IndentationError",
     "evalue": "unexpected indent (<ipython-input-1-39b6f4ae501e>, line 2)",
     "output_type": "error",
     "traceback": [
      "\u001b[1;36m  File \u001b[1;32m\"<ipython-input-1-39b6f4ae501e>\"\u001b[1;36m, line \u001b[1;32m2\u001b[0m\n\u001b[1;33m    tensorboard --logdir .\u001b[0m\n\u001b[1;37m    ^\u001b[0m\n\u001b[1;31mIndentationError\u001b[0m\u001b[1;31m:\u001b[0m unexpected indent\n"
     ]
    }
   ],
   "source": [
    "# Dans un terminal nouveau: \n",
    " tensorboard --logdir .\n",
    "# ouvrons la page web: \n",
    "http://localhost:6006/#graphs&run=.\n",
    "# on peut voir le graph"
   ]
  },
  {
   "cell_type": "code",
   "execution_count": 23,
   "metadata": {},
   "outputs": [
    {
     "data": {
      "text/plain": [
       "7.0"
      ]
     },
     "execution_count": 23,
     "metadata": {},
     "output_type": "execute_result"
    }
   ],
   "source": [
    "# Session:\n",
    "# tf.Graph: like a .py file\n",
    "# tf.Session: like python Executable: Encapsulates the state of tensorflow runtime (run Tensorflow operations)\n",
    "\n",
    "sess=tf.Session()\n",
    "sess.run(total)"
   ]
  },
  {
   "cell_type": "code",
   "execution_count": 8,
   "metadata": {},
   "outputs": [
    {
     "data": {
      "text/plain": [
       "{'a,b': (3.0, 4.0), 'total': 7.0}"
      ]
     },
     "execution_count": 8,
     "metadata": {},
     "output_type": "execute_result"
    }
   ],
   "source": [
    "sess.run({'a,b':(a,b), 'total': total})"
   ]
  },
  {
   "cell_type": "code",
   "execution_count": 16,
   "metadata": {},
   "outputs": [
    {
     "name": "stdout",
     "output_type": "stream",
     "text": [
      "[0.35443807 0.0322957  0.79917777]\n",
      "[0.65402114 0.08679318 0.76199937]\n",
      "(array([1.7263842, 1.8025925, 1.8210615], dtype=float32), array([2.7263842, 2.8025925, 2.8210616], dtype=float32))\n"
     ]
    }
   ],
   "source": [
    "# During a call of tf.Session.run, any tf.Tensor only has a single value.\n",
    "vec=tf.random_uniform(shape=(3,))\n",
    "out1 = vec + 1\n",
    "out2 = vec + 2 \n",
    "print(sess.run(vec))\n",
    "print(sess.run(vec))\n",
    "print(sess.run((out1,out2)))# 1! invocation de vec, la meme pour les out_i"
   ]
  },
  {
   "cell_type": "code",
   "execution_count": 28,
   "metadata": {},
   "outputs": [
    {
     "name": "stdout",
     "output_type": "stream",
     "text": [
      "7.5\n",
      "[3. 7.]\n"
     ]
    }
   ],
   "source": [
    "# Feeding: \n",
    "#Placeholder: promise to provide a value later(comme function argument)\n",
    "\n",
    "x=tf.placeholder(tf.float32)\n",
    "y=tf.placeholder(tf.float32)\n",
    "z=x+y\n",
    "# running to evaluate: \n",
    "print(sess.run(z,feed_dict={x:3,y:4.5}))\n",
    "print(sess.run(z,feed_dict={x:[1 ,3],y:[2 ,4]}))"
   ]
  },
  {
   "cell_type": "code",
   "execution_count": null,
   "metadata": {},
   "outputs": [],
   "source": [
    "# DataSets: "
   ]
  }
 ],
 "metadata": {
  "kernelspec": {
   "display_name": "Python 3",
   "language": "python",
   "name": "python3"
  },
  "language_info": {
   "codemirror_mode": {
    "name": "ipython",
    "version": 3
   },
   "file_extension": ".py",
   "mimetype": "text/x-python",
   "name": "python",
   "nbconvert_exporter": "python",
   "pygments_lexer": "ipython3",
   "version": "3.6.7"
  }
 },
 "nbformat": 4,
 "nbformat_minor": 2
}
