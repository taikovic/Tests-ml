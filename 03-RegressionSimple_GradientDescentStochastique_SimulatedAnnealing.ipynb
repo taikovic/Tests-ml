{
 "cells": [
  {
   "cell_type": "code",
   "execution_count": 1,
   "metadata": {},
   "outputs": [
    {
     "data": {
      "text/plain": [
       "<matplotlib.collections.PathCollection at 0x7f56a732c6a0>"
      ]
     },
     "execution_count": 1,
     "metadata": {},
     "output_type": "execute_result"
    },
    {
     "data": {
      "image/png": "[encoded data removed]",
      "text/plain": [
       "<matplotlib.figure.Figure at 0x7f56c906c8d0>"
      ]
     },
     "metadata": {},
     "output_type": "display_data"
    }
   ],
   "source": [
    "import numpy as np\n",
    "import matplotlib.pyplot as plt\n",
    "%matplotlib inline \n",
    "\n",
    "# Etape 1: generer les datas: \n",
    "\n",
    "x=2 * np.random.rand(100,1)\n",
    "y=4 + 3 * x + np.random.randn(100,1)\n",
    "\n",
    "plt.scatter(x,y)"
   ]
  },
  {
   "cell_type": "markdown",
   "metadata": {},
   "source": [
    "# Generation d'Inputs"
   ]
  },
  {
   "cell_type": "code",
   "execution_count": 2,
   "metadata": {},
   "outputs": [],
   "source": [
    "# Construction de la variable X en concatenant 1 \n",
    "X_b=np.c_[np.ones((100,1)), x]\n",
    "X_new=np.array([[0],[2]])\n",
    "X_new_b=np.c_[np.ones((2,1)),X_new] # add x0=I_2"
   ]
  },
  {
   "cell_type": "markdown",
   "metadata": {},
   "source": [
    "# Methode de Gradient descendant stochastique"
   ]
  },
  {
   "cell_type": "markdown",
   "metadata": {},
   "source": [
    "Quand la fonction de cout est irreguliere, admet des minimas locaux (pas convexe), on utilise cette methode.\n",
    "On calcule le gradient uniquement pour une seule observation pour chaque etape. l'inconvenient de la methode est que la solution finale n'est pas optimale mais bonne et pour le resoudre on reduit progressivement le taux d'apprentissage via une Echeancier ou learning schedule.La methode se base sur la methode du recuit simule"
   ]
  },
  {
   "cell_type": "markdown",
   "metadata": {},
   "source": [
    "### Algo analytique:"
   ]
  },
  {
   "cell_type": "code",
   "execution_count": 21,
   "metadata": {},
   "outputs": [
    {
     "data": {
      "text/plain": [
       "array([[ 4.07113965],\n",
       "       [ 2.93304422]])"
      ]
     },
     "execution_count": 21,
     "metadata": {},
     "output_type": "execute_result"
    }
   ],
   "source": [
    "# Code: \n",
    "n_epochs=50\n",
    "t0,t1=5, 50 # Hyperparameter du L.Sch\n",
    "m=100\n",
    "\n",
    "def learning_schedule(t):\n",
    "    return t0/(t+t1)\n",
    "\n",
    "thetas=np.random.randn(2,1) #initialisation aleatoire\n",
    "thetas_path=[thetas]\n",
    "for epoch in range(n_epochs):\n",
    "    for i in range(m):\n",
    "        random_index = np.random.randint(m)\n",
    "        xi = X_b[random_index:random_index + 1]\n",
    "        yi = y[random_index:random_index + 1]\n",
    "        gradients = 2 * xi.T.dot(xi.dot(thetas) - yi)\n",
    "        learning_rate = learning_schedule(epoch * m + 1 ) # taux d'apprentissage(m) se reduit progressivement\n",
    "        thetas = thetas - learning_rate * gradients\n",
    "        \n",
    "thetas"
   ]
  },
  {
   "cell_type": "markdown",
   "metadata": {},
   "source": [
    "### Scikit learn:"
   ]
  },
  {
   "cell_type": "code",
   "execution_count": 20,
   "metadata": {},
   "outputs": [
    {
     "data": {
      "text/plain": [
       "(array([ 3.90613676]), array([ 2.92580398]))"
      ]
     },
     "execution_count": 20,
     "metadata": {},
     "output_type": "execute_result"
    }
   ],
   "source": [
    "# le Regressor dans ce cas est: SGDRegressor:\n",
    "from sklearn.linear_model import SGDRegressor\n",
    "sgd_reg=SGDRegressor(max_iter=50,tol=0.00001,penalty=None,eta0=0.1) \n",
    "# n_epochs, aucune penalty contraintes, eta0 pour init.\n",
    "sgd_reg.fit(x,y.ravel()) # y s'attend a une list (1! dim) pas vecteur\n",
    "sgd_reg.intercept_, sgd_reg.coef_"
   ]
  }
 ],
 "metadata": {
  "kernelspec": {
   "display_name": "Python 3",
   "language": "python",
   "name": "python3"
  },
  "language_info": {
   "codemirror_mode": {
    "name": "ipython",
    "version": 3
   },
   "file_extension": ".py",
   "mimetype": "text/x-python",
   "name": "python",
   "nbconvert_exporter": "python",
   "pygments_lexer": "ipython3",
   "version": "3.6.7"
  }
 },
 "nbformat": 4,
 "nbformat_minor": 2
}
