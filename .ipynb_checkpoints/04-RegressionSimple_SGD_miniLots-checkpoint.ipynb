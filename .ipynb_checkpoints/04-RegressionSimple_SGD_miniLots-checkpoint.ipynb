{
 "cells": [
  {
   "cell_type": "code",
   "execution_count": 4,
   "metadata": {},
   "outputs": [
    {
     "data": {
      "text/plain": [
       "<matplotlib.collections.PathCollection at 0x7ffa82e7c470>"
      ]
     },
     "execution_count": 4,
     "metadata": {},
     "output_type": "execute_result"
    },
    {
     "data": {
      "image/png": "[encoded data removed]",
      "text/plain": [
       "<matplotlib.figure.Figure at 0x7ffa8a238ef0>"
      ]
     },
     "metadata": {},
     "output_type": "display_data"
    }
   ],
   "source": [
    "import numpy as np\n",
    "import matplotlib.pyplot as plt\n",
    "%matplotlib inline \n",
    "\n",
    "# Etape 1: generer les datas: \n",
    "\n",
    "x=2 * np.random.rand(100,1)\n",
    "y=4 + 3 * x + np.random.randn(100,1)\n",
    "\n",
    "plt.scatter(x,y)"
   ]
  },
  {
   "cell_type": "markdown",
   "metadata": {},
   "source": [
    "# Generation d'Inputs"
   ]
  },
  {
   "cell_type": "code",
   "execution_count": 5,
   "metadata": {},
   "outputs": [],
   "source": [
    "# Construction de la variable X en concatenant 1 \n",
    "X_b=np.c_[np.ones((100,1)), x]\n",
    "X_new=np.array([[0],[2]])\n",
    "X_new_b=np.c_[np.ones((2,1)),X_new] # add x0=I_2"
   ]
  },
  {
   "cell_type": "markdown",
   "metadata": {},
   "source": [
    "# Methode de Gradient descendant par mini lots"
   ]
  },
  {
   "cell_type": "markdown",
   "metadata": {},
   "source": [
    "Au lieu de processer une seule ligne au hasard, on va plutot processer des lots choisis par hasard."
   ]
  },
  {
   "cell_type": "markdown",
   "metadata": {},
   "source": [
    "### Algo analytique:"
   ]
  },
  {
   "cell_type": "code",
   "execution_count": 6,
   "metadata": {},
   "outputs": [
    {
     "data": {
      "text/plain": [
       "array([[ 3.98194947],\n",
       "       [ 2.92120892]])"
      ]
     },
     "execution_count": 6,
     "metadata": {},
     "output_type": "execute_result"
    }
   ],
   "source": [
    "# Code: \n",
    "n_epochs=50\n",
    "minibatch_size=20\n",
    "t0,t1=5, 50 # Hyperparameter du L.Sch\n",
    "m=100\n",
    "t=0\n",
    "\n",
    "def learning_schedule(t,t0,t1):\n",
    "    return t0/(t+t1)\n",
    "\n",
    "thetas=np.random.randn(2,1) #init aleatoire\n",
    "\n",
    "for epoch in range(n_epochs):\n",
    "    shuffled_indices = np.random.permutation(m)\n",
    "    X_b_shuffled = X_b[shuffled_indices]\n",
    "    y_shuffled = y[shuffled_indices]\n",
    "    for i in range(0,m,minibatch_size):\n",
    "        t += 1            \n",
    "        xi = X_b_shuffled[i:i+minibatch_size]\n",
    "        yi = y_shuffled[i:i+minibatch_size]\n",
    "        gradients = 2 * xi.T.dot(xi.dot(thetas) - yi)/minibatch_size\n",
    "        learning_rate = learning_schedule(t,t0,t1) # taux d'apprentissage(m)\n",
    "        thetas = thetas - learning_rate * gradients\n",
    "        \n",
    "thetas"
   ]
  },
  {
   "cell_type": "markdown",
   "metadata": {},
   "source": [
    "### Scikit learn:"
   ]
  },
  {
   "cell_type": "code",
   "execution_count": 36,
   "metadata": {},
   "outputs": [
    {
     "data": {
      "text/plain": [
       "(array([ 3.79729875]), array([ 3.0017286]))"
      ]
     },
     "execution_count": 36,
     "metadata": {},
     "output_type": "execute_result"
    }
   ],
   "source": [
    "# le Regressor dans ce cas est: SGDRegressor:\n",
    "from sklearn.linear_model import SGDRegressor\n",
    "sgd_reg=SGDRegressor(max_iter=50,tol=0.00001,penalty=None,eta0=0.1) \n",
    "# n_epochs, aucune penalty contraintes, eta0 pour init.\n",
    "sgd_reg.partial_fit(x,y.ravel()) # y s'attend a une list (1! dim) pas vecteur , USE of Partial_fit\n",
    "sgd_reg.intercept_, sgd_reg.coef_"
   ]
  }
 ],
 "metadata": {
  "kernelspec": {
   "display_name": "Python 3",
   "language": "python",
   "name": "python3"
  },
  "language_info": {
   "codemirror_mode": {
    "name": "ipython",
    "version": 3
   },
   "file_extension": ".py",
   "mimetype": "text/x-python",
   "name": "python",
   "nbconvert_exporter": "python",
   "pygments_lexer": "ipython3",
   "version": "3.6.7"
  }
 },
 "nbformat": 4,
 "nbformat_minor": 2
}
