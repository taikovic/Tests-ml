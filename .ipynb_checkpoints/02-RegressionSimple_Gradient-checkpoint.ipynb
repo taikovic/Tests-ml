{
 "cells": [
  {
   "cell_type": "code",
   "execution_count": 36,
   "metadata": {},
   "outputs": [
    {
     "data": {
      "text/plain": [
       "<matplotlib.collections.PathCollection at 0x7f91e4b01e48>"
      ]
     },
     "execution_count": 36,
     "metadata": {},
     "output_type": "execute_result"
    },
    {
     "data": {
      "image/png": "[encoded data removed]",
      "text/plain": [
       "<matplotlib.figure.Figure at 0x7f91e4baac88>"
      ]
     },
     "metadata": {},
     "output_type": "display_data"
    }
   ],
   "source": [
    "import numpy as np\n",
    "import matplotlib.pyplot as plt\n",
    "%matplotlib inline \n",
    "\n",
    "# Etape 1: generer les datas: \n",
    "\n",
    "x=2 * np.random.rand(100,1)\n",
    "y=4 + 3 * x + np.random.randn(100,1)\n",
    "\n",
    "plt.scatter(x,y)"
   ]
  },
  {
   "cell_type": "code",
   "execution_count": 37,
   "metadata": {},
   "outputs": [],
   "source": [
    "# Construction de la variable X en concatenant 1 \n",
    "X_b=np.c_[np.ones((100,1)), x]\n",
    "X_new=np.array([[0],[2]])\n",
    "X_new_b=np.c_[np.ones((2,1)),X_new] # add x0=I_2"
   ]
  },
  {
   "cell_type": "markdown",
   "metadata": {},
   "source": [
    "#                              Methode de la Descente du Gradient-Ordinaire "
   ]
  },
  {
   "cell_type": "code",
   "execution_count": 38,
   "metadata": {},
   "outputs": [],
   "source": [
    "# Pour minimiser la fonction de Cout: \n",
    "# Convergence assuree grace a la convexite du la fonction cout: \n",
    "# Beta_(i+1) <- Beta_i - eta * df/dBeta (MSE(Beta))\n",
    "# gradient (MSE(beta))= 2/m * X^t . (X.beta - Y)\n",
    "\n",
    "eta=0.1 # taux d'apprentissage \n",
    "n_iteration=1000\n",
    "m=100 # nombre d'observation qui suit la dimension du X_b la haut !!\n",
    "theta= np.random.randn(2,1) # initialisation aleatoire; \n",
    "for i in range(n_iteration):\n",
    "    gradients= 2/m * X_b.T.dot(X_b.dot(theta) - y )\n",
    "    theta= theta - eta * gradients\n",
    "    "
   ]
  },
  {
   "cell_type": "code",
   "execution_count": 39,
   "metadata": {},
   "outputs": [
    {
     "data": {
      "text/plain": [
       "array([[ 4.17852449],\n",
       "       [ 2.81237662]])"
      ]
     },
     "execution_count": 39,
     "metadata": {},
     "output_type": "execute_result"
    }
   ],
   "source": [
    "theta"
   ]
  },
  {
   "cell_type": "markdown",
   "metadata": {},
   "source": [
    "# Normalisation"
   ]
  },
  {
   "cell_type": "markdown",
   "metadata": {},
   "source": [
    " Quand une variable beta1 par ex, est plus petite que beta2, l'algo de la descente s'attend a \n",
    " une variation bcp plus important de beta1 pour affecter la fonction cout. la convergence\n",
    " mettra bcp plus de temps.\n",
    " FAUT tjrs avoir le meme echelle de tous les variables.\n"
   ]
  },
  {
   "cell_type": "markdown",
   "metadata": {},
   "source": [
    "### Avec NumPy"
   ]
  },
  {
   "cell_type": "code",
   "execution_count": 41,
   "metadata": {},
   "outputs": [
    {
     "data": {
      "text/plain": [
       "[<matplotlib.lines.Line2D at 0x7f91e4a6c9b0>,\n",
       " <matplotlib.lines.Line2D at 0x7f91e4a6cb38>]"
      ]
     },
     "execution_count": 41,
     "metadata": {},
     "output_type": "execute_result"
    },
    {
     "data": {
      "image/png": "[encoded data removed]",
      "text/plain": [
       "<matplotlib.figure.Figure at 0x7f91e4ae23c8>"
      ]
     },
     "metadata": {},
     "output_type": "display_data"
    }
   ],
   "source": [
    "Eps=0.000001\n",
    "X_norm = (X_b - X_b.mean(axis=0)) / (X_b.std(axis=0)+ Eps) \n",
    "# attention:Eps=0 on aura division par Zero;\n",
    "\n",
    "plt.plot(X_norm,y,\"b.\")"
   ]
  },
  {
   "cell_type": "markdown",
   "metadata": {},
   "source": [
    "### avec Scikit_learn"
   ]
  },
  {
   "cell_type": "code",
   "execution_count": 42,
   "metadata": {},
   "outputs": [
    {
     "data": {
      "text/plain": [
       "[<matplotlib.lines.Line2D at 0x7f91e4a4c9e8>,\n",
       " <matplotlib.lines.Line2D at 0x7f91e4a4cb70>]"
      ]
     },
     "execution_count": 42,
     "metadata": {},
     "output_type": "execute_result"
    },
    {
     "data": {
      "image/png": "[encoded data removed]",
      "text/plain": [
       "<matplotlib.figure.Figure at 0x7f91e4bb7e80>"
      ]
     },
     "metadata": {},
     "output_type": "display_data"
    }
   ],
   "source": [
    "from sklearn.preprocessing import StandardScaler\n",
    "Scaler= StandardScaler()\n",
    "X_norm=Scaler.fit_transform(X_b)\n",
    "plt.plot(X_norm,y,\"b.\")"
   ]
  },
  {
   "cell_type": "markdown",
   "metadata": {},
   "source": [
    "### SKlearn Norme"
   ]
  },
  {
   "cell_type": "code",
   "execution_count": 43,
   "metadata": {},
   "outputs": [
    {
     "data": {
      "text/plain": [
       "array([[ 4.17852449],\n",
       "       [ 9.80327773]])"
      ]
     },
     "execution_count": 43,
     "metadata": {},
     "output_type": "execute_result"
    }
   ],
   "source": [
    "#changement D'echelle: \n",
    "from sklearn.linear_model import LinearRegression\n",
    "\n",
    "lin_reg=LinearRegression()\n",
    "lin_reg.fit(X_norm,y)\n",
    "lin_reg.intercept_, lin_reg.coef_ #  cste (B0) &  poids (Bi)\n",
    "# Normaliser avec Transform !!! et prediction: \n",
    "X_norm_b=Scaler.transform(X_new_b)\n",
    "Y_predict_new=lin_reg.predict(X_norm_b) \n",
    "Y_predict_new"
   ]
  },
  {
   "cell_type": "markdown",
   "metadata": {},
   "source": [
    "### GradientDesc Norme "
   ]
  },
  {
   "cell_type": "code",
   "execution_count": 44,
   "metadata": {},
   "outputs": [
    {
     "data": {
      "text/plain": [
       "array([[-0.52491041],\n",
       "       [ 1.71091048]])"
      ]
     },
     "execution_count": 44,
     "metadata": {},
     "output_type": "execute_result"
    }
   ],
   "source": [
    "# Changement d'echelle pour Gradient Desc: \n",
    "eta=0.01 # taux d'apprentissage \n",
    "n_iteration=1000\n",
    "m=100 # nombre d'observation qui suit la dimension du X_b la haut !!\n",
    "theta= np.random.randn(2,1) # initialisation aleatoire; \n",
    "for i in range(n_iteration):\n",
    "    gradients= 2/m * X_norm.T.dot(X_norm.dot(theta) - y )\n",
    "    theta= theta - eta * gradients\n",
    "theta"
   ]
  }
 ],
 "metadata": {
  "kernelspec": {
   "display_name": "Python 3",
   "language": "python",
   "name": "python3"
  },
  "language_info": {
   "codemirror_mode": {
    "name": "ipython",
    "version": 3
   },
   "file_extension": ".py",
   "mimetype": "text/x-python",
   "name": "python",
   "nbconvert_exporter": "python",
   "pygments_lexer": "ipython3",
   "version": "3.6.7"
  }
 },
 "nbformat": 4,
 "nbformat_minor": 2
}
