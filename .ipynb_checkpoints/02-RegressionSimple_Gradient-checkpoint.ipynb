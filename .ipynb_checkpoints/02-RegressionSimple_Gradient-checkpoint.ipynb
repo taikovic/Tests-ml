{
 "cells": [
  {
   "cell_type": "code",
   "execution_count": 66,
   "metadata": {},
   "outputs": [
    {
     "data": {
      "text/plain": [
       "<matplotlib.collections.PathCollection at 0x7f91e4860550>"
      ]
     },
     "execution_count": 66,
     "metadata": {},
     "output_type": "execute_result"
    },
    {
     "data": {
      "image/png": "[encoded data removed]",
      "text/plain": [
       "<matplotlib.figure.Figure at 0x7f91e4963da0>"
      ]
     },
     "metadata": {},
     "output_type": "display_data"
    }
   ],
   "source": [
    "import numpy as np\n",
    "import matplotlib.pyplot as plt\n",
    "%matplotlib inline \n",
    "\n",
    "# Etape 1: generer les datas: \n",
    "\n",
    "x=2 * np.random.rand(100,1)\n",
    "y=4 + 3 * x + np.random.randn(100,1)\n",
    "\n",
    "plt.scatter(x,y)"
   ]
  },
  {
   "cell_type": "code",
   "execution_count": 67,
   "metadata": {},
   "outputs": [],
   "source": [
    "# Construction de la variable X en concatenant 1 \n",
    "X_b=np.c_[np.ones((100,1)), x]\n",
    "X_new=np.array([[0],[2]])\n",
    "X_new_b=np.c_[np.ones((2,1)),X_new] # add x0=I_2"
   ]
  },
  {
   "cell_type": "markdown",
   "metadata": {},
   "source": [
    "# Methode de la Descente du Gradient (batch gradient descent)"
   ]
  },
  {
   "cell_type": "code",
   "execution_count": 68,
   "metadata": {},
   "outputs": [],
   "source": [
    "# Pour minimiser la fonction de Cout: \n",
    "# Convergence assuree grace a la convexite du la fonction cout: \n",
    "# Beta_(i+1) <- Beta_i - eta * df/dBeta (MSE(Beta))\n",
    "# gradient (MSE(beta))= 2/m * X^t . (X.beta - Y)\n",
    "\n",
    "learning_rate=0.1 # taux d'apprentissage \n",
    "n_epochs=1000\n",
    "m=100 # nombre d'observation qui suit la dimension du X_b la haut !!\n",
    "thetas= np.random.randn(2,1) # initialisation aleatoire; \n",
    "for epoch in range(n_epochs):\n",
    "    gradients= 2/m * X_b.T.dot(X_b.dot(thetas) - y ) #ici batch\n",
    "    thetas = thetas - learning_rate * gradients\n",
    "    "
   ]
  },
  {
   "cell_type": "code",
   "execution_count": 75,
   "metadata": {},
   "outputs": [
    {
     "data": {
      "text/plain": [
       "array([[-1.85064202],\n",
       "       [ 1.74117544]])"
      ]
     },
     "execution_count": 75,
     "metadata": {},
     "output_type": "execute_result"
    }
   ],
   "source": [
    "thetas"
   ]
  },
  {
   "cell_type": "markdown",
   "metadata": {},
   "source": [
    "# Normalisation"
   ]
  },
  {
   "cell_type": "markdown",
   "metadata": {},
   "source": [
    " Quand une variable beta1 par ex, est plus petite que beta2, l'algo de la descente s'attend a \n",
    " une variation bcp plus important de beta1 pour affecter la fonction cout. la convergence\n",
    " mettra bcp plus de temps.\n",
    " FAUT tjrs avoir le meme echelle de tous les variables.\n"
   ]
  },
  {
   "cell_type": "markdown",
   "metadata": {},
   "source": [
    "### Avec NumPy"
   ]
  },
  {
   "cell_type": "code",
   "execution_count": 70,
   "metadata": {},
   "outputs": [
    {
     "data": {
      "text/plain": [
       "[<matplotlib.lines.Line2D at 0x7f91e483f630>,\n",
       " <matplotlib.lines.Line2D at 0x7f91e483f7b8>]"
      ]
     },
     "execution_count": 70,
     "metadata": {},
     "output_type": "execute_result"
    },
    {
     "data": {
      "image/png": "[encoded data removed]",
      "text/plain": [
       "<matplotlib.figure.Figure at 0x7f91e48a8a20>"
      ]
     },
     "metadata": {},
     "output_type": "display_data"
    }
   ],
   "source": [
    "Eps=0.000001\n",
    "X_norm = (X_b - X_b.mean(axis=0)) / (X_b.std(axis=0)+ Eps) \n",
    "# attention:Eps=0 on aura division par Zero;\n",
    "\n",
    "plt.plot(X_norm,y,\"b.\")"
   ]
  },
  {
   "cell_type": "markdown",
   "metadata": {},
   "source": [
    "### avec Scikit_learn"
   ]
  },
  {
   "cell_type": "code",
   "execution_count": 71,
   "metadata": {},
   "outputs": [
    {
     "data": {
      "text/plain": [
       "[<matplotlib.lines.Line2D at 0x7f91e479f828>,\n",
       " <matplotlib.lines.Line2D at 0x7f91e479f9b0>]"
      ]
     },
     "execution_count": 71,
     "metadata": {},
     "output_type": "execute_result"
    },
    {
     "data": {
      "image/png": "[encoded data removed]",
      "text/plain": [
       "<matplotlib.figure.Figure at 0x7f91e498c208>"
      ]
     },
     "metadata": {},
     "output_type": "display_data"
    }
   ],
   "source": [
    "from sklearn.preprocessing import StandardScaler\n",
    "Scaler= StandardScaler()\n",
    "X_norm=Scaler.fit_transform(X_b)\n",
    "plt.plot(X_norm,y,\"b.\")"
   ]
  },
  {
   "cell_type": "markdown",
   "metadata": {},
   "source": [
    "### SKlearn Norme"
   ]
  },
  {
   "cell_type": "code",
   "execution_count": 72,
   "metadata": {},
   "outputs": [
    {
     "data": {
      "text/plain": [
       "array([[  3.94102132],\n",
       "       [ 10.02309535]])"
      ]
     },
     "execution_count": 72,
     "metadata": {},
     "output_type": "execute_result"
    }
   ],
   "source": [
    "#changement D'echelle: \n",
    "from sklearn.linear_model import LinearRegression\n",
    "\n",
    "lin_reg=LinearRegression()\n",
    "lin_reg.fit(X_norm,y)\n",
    "lin_reg.intercept_, lin_reg.coef_ #  cste (B0) &  poids (Bi)\n",
    "# Normaliser avec Transform !!! et prediction: \n",
    "X_norm_b=Scaler.transform(X_new_b)\n",
    "Y_predict_new=lin_reg.predict(X_norm_b) \n",
    "Y_predict_new"
   ]
  },
  {
   "cell_type": "markdown",
   "metadata": {},
   "source": [
    "### Batch gradient Descent Norme "
   ]
  },
  {
   "cell_type": "code",
   "execution_count": null,
   "metadata": {},
   "outputs": [],
   "source": [
    "# Changement d'echelle pour Gradient Desc: \n",
    "learning_rate=0.01 # taux d'apprentissage \n",
    "n_iteration=1000\n",
    "m=100 # nombre d'observation qui suit la dimension du X_b la haut !!\n",
    "thetas= np.random.randn(2,1) # ?????\n",
    "thetas=Scaler.transform(thetas)\n",
    "for i in range(n_iteration):\n",
    "    gradients= 2/m * X_norm.T.dot(X_norm.dot(thetas) - y ) # a chaque etape on utilise l'ens des donnees!!\n",
    "    thetas= thetas - learning_rate * gradients\n",
    "thetas"
   ]
  }
 ],
 "metadata": {
  "kernelspec": {
   "display_name": "Python 3",
   "language": "python",
   "name": "python3"
  },
  "language_info": {
   "codemirror_mode": {
    "name": "ipython",
    "version": 3
   },
   "file_extension": ".py",
   "mimetype": "text/x-python",
   "name": "python",
   "nbconvert_exporter": "python",
   "pygments_lexer": "ipython3",
   "version": "3.6.7"
  }
 },
 "nbformat": 4,
 "nbformat_minor": 2
}
