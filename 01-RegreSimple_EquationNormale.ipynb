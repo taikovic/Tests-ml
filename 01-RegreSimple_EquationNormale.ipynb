{
 "cells": [
  {
   "cell_type": "code",
   "execution_count": 57,
   "metadata": {},
   "outputs": [
    {
     "data": {
      "text/plain": [
       "<matplotlib.collections.PathCollection at 0x7f87561705c0>"
      ]
     },
     "execution_count": 57,
     "metadata": {},
     "output_type": "execute_result"
    },
    {
     "data": {
      "image/png": "[encoded data removed]",
      "text/plain": [
       "<matplotlib.figure.Figure at 0x7f8756364470>"
      ]
     },
     "metadata": {},
     "output_type": "display_data"
    }
   ],
   "source": [
    "import numpy as np\n",
    "import matplotlib.pyplot as plt\n",
    "%matplotlib inline \n",
    "\n",
    "# Etape 1: generer les datas: \n",
    "\n",
    "x=2 * np.random.rand(100,1)\n",
    "y=4 + 3 * x + np.random.randn(100,1)\n",
    "\n",
    "plt.scatter(x,y)"
   ]
  },
  {
   "cell_type": "code",
   "execution_count": 82,
   "metadata": {},
   "outputs": [],
   "source": [
    "#Construction de la variable X en concatenant 1 \n",
    "X_b=np.c_[np.ones((100,1)), x]\n",
    "X_new=np.array([[0],[2]])\n",
    "X_new_b=np.c_[np.ones((2,1)),X_new] # add x0=I_2"
   ]
  },
  {
   "cell_type": "code",
   "execution_count": 83,
   "metadata": {},
   "outputs": [
    {
     "name": "stdout",
     "output_type": "stream",
     "text": [
      "[[ 3.97267552]\n",
      " [ 2.91201782]]\n"
     ]
    }
   ],
   "source": [
    "# Entrainement du modele avec l'Equation Normale: Derivation Matricielle\n",
    "# le facteur B: (X`X)^-1 . X`.y (X`=X^t)\n",
    "theta_best=np.linalg.inv(X_b.T.dot(X_b)).dot(X_b.T).dot(y)\n",
    "print(theta_best)"
   ]
  },
  {
   "cell_type": "code",
   "execution_count": 84,
   "metadata": {},
   "outputs": [
    {
     "data": {
      "text/plain": [
       "array([[ 3.97267552],\n",
       "       [ 9.79671116]])"
      ]
     },
     "execution_count": 84,
     "metadata": {},
     "output_type": "execute_result"
    }
   ],
   "source": [
    "# Predictions a l'aide de Theta (Beta): \n",
    "y_predict=X_new_b.dot(theta_best)\n",
    "y_predict"
   ]
  },
  {
   "cell_type": "code",
   "execution_count": 60,
   "metadata": {},
   "outputs": [
    {
     "data": {
      "image/png": "[encoded data removed]",
      "text/plain": [
       "<matplotlib.figure.Figure at 0x7f8755eebe10>"
      ]
     },
     "metadata": {},
     "output_type": "display_data"
    }
   ],
   "source": [
    "# Affichage du modele lineaire et data: \n",
    "plt.plot(x,y,\"b.\")\n",
    "plt.plot(X_new,y_predict, \"r-\") # red line\n",
    "plt.axis([0,2,0,15]) #xmin, xmax, ymin, ymax\n",
    "plt.show()\n"
   ]
  },
  {
   "cell_type": "code",
   "execution_count": 61,
   "metadata": {},
   "outputs": [
    {
     "data": {
      "text/plain": [
       "(array([ 3.97267552]), array([[ 2.91201782]]))"
      ]
     },
     "execution_count": 61,
     "metadata": {},
     "output_type": "execute_result"
    }
   ],
   "source": [
    "# !! Utilisation de Scikit-learn: Entrainement du modele:\n",
    "from sklearn.linear_model import LinearRegression\n",
    "lin_reg=LinearRegression() # instantiation du modele (objet)\n",
    "lin_reg.fit(x,y) #Entrainement du modele: Equation Normale\n",
    "lin_reg.intercept_, lin_reg.coef_ #  cste (B0) &  poids (Bi). "
   ]
  },
  {
   "cell_type": "code",
   "execution_count": 62,
   "metadata": {},
   "outputs": [
    {
     "data": {
      "text/plain": [
       "array([[ 3.97267552],\n",
       "       [ 9.79671116]])"
      ]
     },
     "execution_count": 62,
     "metadata": {},
     "output_type": "execute_result"
    }
   ],
   "source": [
    "# Predictions avec Sklearn: \n",
    "lin_reg.predict(X_new) # "
   ]
  },
  {
   "cell_type": "code",
   "execution_count": 63,
   "metadata": {},
   "outputs": [],
   "source": [
    "# Methode de la Descente du Gradient-Ordinaire pour minimiser l'erreur: \n",
    "# Convergence assuree grace a la convexite du la fonction cout: \n",
    "# Beta_(i+1) <- Beta_i - eta * df/dBeta (MSE(Beta))\n",
    "# gradient (MSE(beta))= 2/m * X^t . (X.beta - Y)\n",
    "\n",
    "eta=0.1 # taux d'apprentissage \n",
    "n_iteration=1000\n",
    "m=100 # nombre d'observation qui suit la dimension du X_b la haut !!\n",
    "theta= np.random.randn(2,1) # initialisation aleatoire; \n",
    "for i in range(n_iteration):\n",
    "    gradients= 2/m * X_b.T.dot(X_b.dot(theta) - y )\n",
    "    theta= theta - eta * gradients\n",
    "    "
   ]
  },
  {
   "cell_type": "code",
   "execution_count": 64,
   "metadata": {},
   "outputs": [
    {
     "data": {
      "text/plain": [
       "array([[ 3.97267552],\n",
       "       [ 2.91201782]])"
      ]
     },
     "execution_count": 64,
     "metadata": {},
     "output_type": "execute_result"
    }
   ],
   "source": [
    "theta"
   ]
  },
  {
   "cell_type": "code",
   "execution_count": 65,
   "metadata": {},
   "outputs": [
    {
     "data": {
      "text/plain": [
       "[<matplotlib.lines.Line2D at 0x7f8755f186d8>,\n",
       " <matplotlib.lines.Line2D at 0x7f8755f18860>]"
      ]
     },
     "execution_count": 65,
     "metadata": {},
     "output_type": "execute_result"
    },
    {
     "data": {
      "image/png": "[encoded data removed]",
      "text/plain": [
       "<matplotlib.figure.Figure at 0x7f8755ea39b0>"
      ]
     },
     "metadata": {},
     "output_type": "display_data"
    }
   ],
   "source": [
    "# Normalisation: \n",
    "#qd une variable beta1 par ex, est plus petite que beta2, l'algo de la descente s'attend a \n",
    "#une variation bcp plus important de beta1 pour affecter la fonction cout. la convergence\n",
    "# mettra bcp plus de temps.\n",
    "# FAUT tjrs avoir le meme echelle de tous les variables: NORMALISATION: \n",
    "\n",
    "#avec NumPy:\n",
    "Eps=0.000001\n",
    "X_norm = (X_b - X_b.mean(axis=0)) / (X_b.std(axis=0)+ Eps) \n",
    "# attention:Eps=0 on aura division par Zero;\n",
    "\n",
    "plt.plot(X_norm,y,\"b.\")"
   ]
  },
  {
   "cell_type": "code",
   "execution_count": 70,
   "metadata": {},
   "outputs": [
    {
     "data": {
      "text/plain": [
       "[<matplotlib.lines.Line2D at 0x7f8755e100b8>,\n",
       " <matplotlib.lines.Line2D at 0x7f8755e10240>]"
      ]
     },
     "execution_count": 70,
     "metadata": {},
     "output_type": "execute_result"
    },
    {
     "data": {
      "image/png": "[encoded data removed]",
      "text/plain": [
       "<matplotlib.figure.Figure at 0x7f8755ebc4e0>"
      ]
     },
     "metadata": {},
     "output_type": "display_data"
    }
   ],
   "source": [
    "# Normalisation avec: Scikit_learn: \n",
    "\n",
    "from sklearn.preprocessing import StandardScaler\n",
    "Scaler= StandardScaler()\n",
    "X_norm=Scaler.fit_transform(X_b)\n",
    "plt.plot(X_norm,y,\"b.\")"
   ]
  },
  {
   "cell_type": "code",
   "execution_count": 77,
   "metadata": {},
   "outputs": [
    {
     "data": {
      "text/plain": [
       "array([[ 3.97267552],\n",
       "       [ 9.79671116]])"
      ]
     },
     "execution_count": 77,
     "metadata": {},
     "output_type": "execute_result"
    }
   ],
   "source": [
    "lin_reg.fit(X_norm,y)\n",
    "lin_reg.intercept_, lin_reg.coef_ #  cste (B0) &  poids (Bi)\n",
    "# Normaliser avec Transform !!! et prediction: \n",
    "X_norm_b=Scaler.transform(X_new_b)\n",
    "Y_predict_new=lin_reg.predict(X_norm_b) \n",
    "Y_predict_new"
   ]
  },
  {
   "cell_type": "code",
   "execution_count": 81,
   "metadata": {},
   "outputs": [
    {
     "data": {
      "text/plain": [
       "array([[ 0.88333243],\n",
       "       [ 1.60473691]])"
      ]
     },
     "execution_count": 81,
     "metadata": {},
     "output_type": "execute_result"
    }
   ],
   "source": [
    "eta=0.01 # taux d'apprentissage \n",
    "n_iteration=1000\n",
    "m=100 # nombre d'observation qui suit la dimension du X_b la haut !!\n",
    "theta= np.random.randn(2,1) # initialisation aleatoire; \n",
    "for i in range(n_iteration):\n",
    "    gradients= 2/m * X_norm.T.dot(X_norm.dot(theta) - y )\n",
    "    theta= theta - eta * gradients\n",
    "theta"
   ]
  }
 ],
 "metadata": {
  "kernelspec": {
   "display_name": "Python 3",
   "language": "python",
   "name": "python3"
  },
  "language_info": {
   "codemirror_mode": {
    "name": "ipython",
    "version": 3
   },
   "file_extension": ".py",
   "mimetype": "text/x-python",
   "name": "python",
   "nbconvert_exporter": "python",
   "pygments_lexer": "ipython3",
   "version": "3.6.7"
  }
 },
 "nbformat": 4,
 "nbformat_minor": 2
}
